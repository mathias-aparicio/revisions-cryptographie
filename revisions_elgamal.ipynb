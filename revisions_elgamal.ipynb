{
 "cells": [
  {
   "cell_type": "markdown",
   "metadata": {},
   "source": [
    "# Signature Elgamal"
   ]
  },
  {
   "cell_type": "markdown",
   "metadata": {},
   "source": [
    "On choisit p un nombre premier et un générateur sur $Z/pZ$ g = 3.\n",
    "- Alice a pour clef privée a et clef publique A = g^a mod p\n",
    "- Bob a pour clef privée b et clef publique B = g^b mod p\n",
    "\n",
    "1. Alice envoie A à Bob\n",
    "2. Bob envoie B à Alice\n",
    "3. $K = A^b = B^a = g^{ab} \\quad \\text{mod p}$ est la clef de chiffrement / secret partagé"
   ]
  },
  {
   "cell_type": "code",
   "execution_count": 2,
   "metadata": {},
   "outputs": [],
   "source": [
    "import sys\n",
    "sys.path.append(\"rendu\")\n",
    "import common\n",
    "from random import randint"
   ]
  },
  {
   "cell_type": "code",
   "execution_count": null,
   "metadata": {},
   "outputs": [],
   "source": [
    "def gen_elgamal_pg(n):\n",
    "    p = common.gen_prime(n)\n",
    "    return [p, 3]"
   ]
  },
  {
   "cell_type": "code",
   "execution_count": null,
   "metadata": {},
   "outputs": [],
   "source": [
    "def gen_elgamal_sk_pk(p,g):\n",
    "    \"\"\"\n",
    "    entree : p premier, g générateur sur Z/pZ\n",
    "    sortie : sk clé privée, pk clé publique\n",
    "    \"\"\"\n",
    "    sk = randint(3, p-2)\n",
    "    pk = common.expo_modulaire_fast(sk, g, p) # g^sk mod p\n",
    "    return [sk, pk]"
   ]
  },
  {
   "cell_type": "code",
   "execution_count": null,
   "metadata": {},
   "outputs": [],
   "source": [
    "\n",
    "def gen_elgamal_get_secret(pk_a,sk_a,pk_b,sk_b,p):\n",
    "    \"\"\" \n",
    "    entree : (pk_a,sk_a) clé publique et privée de A, (pk_b,sk_b) clé publique et privée de B, p premier\n",
    "    sortie : secret partagé, clef secrète commune\n",
    "    \"\"\"\n",
    "    secret_1 = common.expo_modulaire_fast(sk_a, pk_b, p)\n",
    "    secret_2 = common.expo_modulaire_fast(sk_b, pk_a, p)\n",
    "    assert(secret_1 == secret_2)\n",
    "    return secret_1"
   ]
  },
  {
   "cell_type": "markdown",
   "metadata": {},
   "source": [
    "Une fois le secret partagé $K = g^{a,b}$, pour chiffrer un message m, elle calcule $c = mK \\text{ mod p}$ et pour déchiffrer $m = cK^{-1} \\text{ mod p}$"
   ]
  },
  {
   "cell_type": "code",
   "execution_count": 4,
   "metadata": {},
   "outputs": [],
   "source": [
    "def enc_elgamal(m,secret,p):\n",
    "    \"\"\"\n",
    "    entree : m message, pk clé publique, p premier\n",
    "    sortie : (c1,c2) message chiffré\n",
    "    \"\"\"\n",
    "    int_m = common.string_to_int(m)\n",
    "    return common.expo_modulaire_fast(1, int_m*secret, p) # m*secret mod p\n",
    "def dec_elgamal(c, secret, p):\n",
    "    \"\"\"\n",
    "    entree : c message chiffré, secret clé secrète, p premier\n",
    "    sortie : m = c1^secret^-1 mod p\n",
    "    \"\"\"\n",
    "    k = common.inverse_modulaire(secret, p)\n",
    "    return common.int_to_string(common.expo_modulaire_fast(1, c*k, p))\n"
   ]
  },
  {
   "cell_type": "markdown",
   "metadata": {},
   "source": [
    "Pour signer un message m, avec elgamal Alice (de clef privée a) effectue la procédure suivante:\n",
    "1. Alice choisit un nombre aléatoire $ 1 < k < p-1$\n",
    "2. Calculer $r = g^k \\text{ mod p}$\n",
    "3. Calculer $s = (m - a r)k^{-1} \\text{ mod p-1}$\n",
    "4. La signature est $(r,s)$"
   ]
  },
  {
   "cell_type": "code",
   "execution_count": null,
   "metadata": {},
   "outputs": [],
   "source": [
    "   \n",
    "def elgamalsignature(g,p,sk,m):\n",
    "    \"\"\" \n",
    "    entree : g générateur sur Z/pZ, p premier, sk clé privée, m message\n",
    "    sortie : [r,s] signature tel que r = g^k mod p, s = (m - sk*r)k^-1 mod (p-1)\n",
    "    \"\"\"\n",
    "    print(\"\")\n",
    "    ke = 2\n",
    "    while common.pgcd(ke,p-1) != 1:\n",
    "        ke = randint(2,p-2)\n",
    "    m_int = common.str_to_int(m)\n",
    "    r = common.expo_modulaire_fast(ke, g, p)\n",
    "    inv_ke = common.inverse_modulaire(ke, p)\n",
    "    s = common.expo_modulaire_fast(1, (m_int - sk *r)*inv_ke, p-1)\n",
    "    return [r,s]"
   ]
  },
  {
   "cell_type": "markdown",
   "metadata": {},
   "source": [
    "Alice de clef publique $A=g^a$ envoie le message m et la signature $(r,s)$ à Bob\n",
    "Pour vérifier la signature elgamal, Bob effectue la procédure suivante : \n",
    "1. Vérifier que $1 < r < p-1$ et $1 < s < p-1$ sinon la signature est invalide\n",
    "2. Calcule de $v_1 = A^r r^s \\text{ mod p}$\n",
    "3. Calcule de $v_2 = g^m \\text{ mod p}$\n",
    "4. La signature est valide si $v_1 = v_2$\n"
   ]
  },
  {
   "cell_type": "code",
   "execution_count": null,
   "metadata": {},
   "outputs": [],
   "source": [
    "\n",
    "def elgamalverification(g,p,r,s,m,pk):\n",
    "    \"\"\" \n",
    "    entree : g générateur sur Z/pZ, p premier, r,s signature, m message, pk clé publique (g^sk mod p)\n",
    "    sortie : booléen vérifiant la signature\n",
    "    \"\"\"\n",
    "    m_int = common.str_to_int(m)\n",
    "    y = common.expo_modulaire_fast(r, pk, p) # pk^r mod p\n",
    "    z = common.expo_modulaire_fast(s, r, p) # r^s mod p\n",
    "    t = common.expo_modulaire_fast(1, y*z, p) # y*z mod p\n",
    "    alpha_x = common.expo_modulaire_fast(m_int, g, p) # g^m mod p\n",
    "    return t == alpha_x "
   ]
  }
 ],
 "metadata": {
  "kernelspec": {
   "display_name": ".venv",
   "language": "python",
   "name": "python3"
  },
  "language_info": {
   "codemirror_mode": {
    "name": "ipython",
    "version": 3
   },
   "file_extension": ".py",
   "mimetype": "text/x-python",
   "name": "python",
   "nbconvert_exporter": "python",
   "pygments_lexer": "ipython3",
   "version": "3.11.8"
  }
 },
 "nbformat": 4,
 "nbformat_minor": 2
}
