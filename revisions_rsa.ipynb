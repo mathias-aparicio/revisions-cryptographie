{
 "cells": [
  {
   "cell_type": "markdown",
   "metadata": {},
   "source": [
    "# Cryptosystème de RSA\n"
   ]
  },
  {
   "cell_type": "markdown",
   "metadata": {},
   "source": [
    "## Generations de la clef publique et privée"
   ]
  },
  {
   "cell_type": "code",
   "execution_count": null,
   "metadata": {},
   "outputs": [],
   "source": [
    "\n",
    "def expo_modulaire_fast(e,b,n):\n",
    "    \"\"\"\n",
    "    retourne b**e % n\n",
    "    \"\"\"\n",
    "    result = 1\n",
    "    while e > 0:\n",
    "        if e & 1:  # Si le bit le plus à droite de e est 1\n",
    "            result = (result * b) % n\n",
    "        b = (b * b) % n\n",
    "        e >>= 1  # Décalage des bits de e à droite - divisions par\n",
    "    return result\n",
    "\n"
   ]
  },
  {
   "cell_type": "markdown",
   "metadata": {},
   "source": [
    "### Test de primalité de Miller-Rabin\n",
    "entree : un entier n quelconque impair\n",
    "sortie : True si n est probablement premier, False sinon\n",
    "\n",
    "1. On écrit $n = 2^r u + 1$ avec $u$ impair\n",
    "2. On choisit un entier $a$ aléatoire tel que $2 \\leq a \\leq n-2$\n",
    "n est probablement premier si il vérifie l'une des conditions suivantes : \n",
    "- $a^u \\equiv 1 \\mod n$\n",
    "- $\\exists i \\in [0, r-1], a^{2^i u} \\equiv -1 \\mod n$\n",
    "On veut la premiere condition à faux, et la seconde à vrai."
   ]
  },
  {
   "cell_type": "code",
   "execution_count": null,
   "metadata": {},
   "outputs": [],
   "source": [
    "def find_ru(n):\n",
    "    \"\"\"\n",
    "    entree n\n",
    "    sortie : r et u tel que 2^r * u = n avec u impair\n",
    "    \"\"\"\n",
    "    r = 0\n",
    "    while n % 2 == 0 and n != 0:\n",
    "        r += 1\n",
    "        n //= 2\n",
    "    u = n\n",
    "    return r,u \n",
    "def temoin_rabin(a,n):\n",
    "    \"\"\"\n",
    "    entree : n entier, a dans [1,n-2], pgcd(a,n) = 1\n",
    "    sortie : True si a est temoin de Miller-Rabin, False sinon\n",
    "    \"\"\"\n",
    "    # utilisez expo_modulaire_fast !\n",
    "    r,u = find_ru(n-1) # n = 2^r * u + 1\n",
    "    expo_mod_a = expo_modulaire_fast(u, a, n) # expo_mod_a = a^u % n\n",
    "    cond_1 = expo_mod_a != 1\n",
    "    cond_2 = True\n",
    "    for i in range(r):\n",
    "        if expo_modulaire_fast((2**i)*u, a, n) == n-1:\n",
    "            cond_2 = False\n",
    "            break\n",
    "    return cond_1 and cond_2"
   ]
  },
  {
   "cell_type": "code",
   "execution_count": null,
   "metadata": {},
   "outputs": [],
   "source": [
    "from random import randint\n",
    "\n",
    "def test_rabin(n,t):\n",
    "    \"\"\"\n",
    "    entree : n entier à tester, t nombre de tests\n",
    "    sortie : True si n est probablement premier, False sinon\n",
    "    \"\"\"\n",
    "    if n %2 == 0 and n > 2:\n",
    "        return False\n",
    "    a = randint(1, n-1)\n",
    "    while (t != 0):\n",
    "        if (temoin_rabin(a, n) == True):\n",
    "            return False\n",
    "        t-=1\n",
    "        a = randint(1, n-1)\n",
    "\n",
    "    return True \n",
    "def gen_prime(n):\n",
    "    \"\"\"\n",
    "    sortie : un nombre premier entre 2^(n-1) et 2^n -1\n",
    "    \"\"\"\n",
    "    inf = 2**(n-1)\n",
    "    sup = 2**n - 1\n",
    "    p = inf\n",
    "    while not test_rabin(p, 10000):\n",
    "        p = randint(inf, sup)\n",
    "\n",
    "    return p"
   ]
  }
 ],
 "metadata": {
  "language_info": {
   "name": "python"
  }
 },
 "nbformat": 4,
 "nbformat_minor": 2
}
