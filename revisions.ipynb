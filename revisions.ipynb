{
 "cells": [
  {
   "cell_type": "markdown",
   "metadata": {},
   "source": [
    "# Cryptosystème de Rabin\n",
    "## Cryptosystème : \n",
    "Clef publique : N \\\n",
    "Clef privée : p et q avec p = q = 3 mod 4 \\\n",
    "Espace des messages : M = Z/NZ \\\n",
    "Enc(m, N) : m -> m^2 mod N \\\n",
    "Dec(c, N) : trouver m tel que m^2 = c "
   ]
  },
  {
   "cell_type": "code",
   "execution_count": 16,
   "metadata": {},
   "outputs": [],
   "source": [
    "# p and q = 3 mod 4\n",
    "p = 7 \n",
    "q = 11\n",
    "N = p*q"
   ]
  },
  {
   "cell_type": "code",
   "execution_count": 17,
   "metadata": {},
   "outputs": [],
   "source": [
    "def encode(m,N):\n",
    "    c = m*m \n",
    "    c = c % N\n",
    "    return c"
   ]
  },
  {
   "cell_type": "markdown",
   "metadata": {},
   "source": [
    "Lemme:  \\\n",
    "Au problème entrée : [p = 3 mod 4 premier, y] sortie : [x tel que $x^2 = y$] \\\n",
    "$d= y^{\\frac{p+1}{4}}$ est solution \\\n",
    "$d = y^{\\frac{p+1}{4}}$ mod p \\\n",
    "$d^2 = y^{\\frac{p+1}{2}}$ mod p \\\n",
    "$d^2 = y^{\\frac{p-1+1}{2}} = y^{\\frac{p-1}{2}y}$ theoreme de fermat \\\n",
    "$d^2 = 1 y = y$"
   ]
  },
  {
   "cell_type": "markdown",
   "metadata": {},
   "source": [
    "D'après le théoreme chinois c = m² mod N équivaut à c = m² mod p et c = m² mod q \\\n",
    "On pose $m_1 = c^{\\frac{p+1}{4}}$ $m_2 = c^{\\frac{q+1}{4}}$. \\\n",
    "$k_1 q = 1 \\quad \\text{mod p}\\\\$ \n",
    "$k_2 p = 1 \\quad \\text{mod q}\\\\$ \n",
    "Soit d'apres le lemme $m = q k_1 m_1 + p k_2 m_2$ mod N"
   ]
  },
  {
   "cell_type": "code",
   "execution_count": 18,
   "metadata": {},
   "outputs": [],
   "source": [
    "def pgcd(a,b):\n",
    "    while b != 0:\n",
    "        a, b = b, a % b\n",
    "    return a\n",
    "\n",
    "def euclide_ext(a,b):\n",
    "    \"\"\"\n",
    "    retourne d, u, v tel que pgcd(a,b) = d = ua + vb\n",
    "    \"\"\"\n",
    "    # Coefficients de Bezout pour (a, 0) et (0, b)\n",
    "    u1, v1, u2, v2 = 1, 0, 0, 1\n",
    "    while b != 0:\n",
    "        q, r = divmod(a, b)\n",
    "        a, b = b, r\n",
    "        u1, u2 = u2, u1 - q * u2\n",
    "        v1, v2 = v2, v1 - q * v2\n",
    "    return u1*a+v1*b, u1, v1\n",
    "\n",
    "def inv_modulaire(a,n):\n",
    "    \"\"\"\n",
    "    renvoie k tel que ka = 1 mod n\n",
    "    \"\"\"\n",
    "    if pgcd(a, n) != 1:\n",
    "        return None  # Pas d'inverse modulaire si a et n ne sont pas premiers entre eux\n",
    "    else:\n",
    "        d, u, v = euclide_ext(a, n)\n",
    "        return u % n"
   ]
  },
  {
   "cell_type": "code",
   "execution_count": 19,
   "metadata": {},
   "outputs": [],
   "source": [
    "def decode(c,p,q):\n",
    "    m1 = pow(c, (p+1)//4, p)  # m1**2 = c mod p\n",
    "    m2 = pow(c, (q+1)//4, q)  # m2**2 = c mod q\n",
    "    k1 = inv_modulaire(q, p)  # k1q = 1 mod p\n",
    "    k2 = inv_modulaire(p, q)  # k2p = 1 mod q\n",
    "\n",
    "    # Compute the four possible square roots\n",
    "    root1 = (k1*q*m1 + k2*p*m2) % (p*q)\n",
    "    root2 = (k1*q*m1 - k2*p*m2) % (p*q)\n",
    "    root3 = (k1*q*(-m1) + k2*p*m2) % (p*q)\n",
    "    root4 = (k1*q*(-m1) - k2*p*m2) % (p*q)\n",
    "\n",
    "    return [root1, root2, root3, root4]       \n",
    "    "
   ]
  },
  {
   "cell_type": "code",
   "execution_count": 27,
   "metadata": {},
   "outputs": [
    {
     "name": "stdout",
     "output_type": "stream",
     "text": [
      "Message clair: Hell\n",
      "Message chiffré: [25, 37, 37, 37]\n",
      "Message déchiffré 1: \u0010H\u0005=\n",
      "Message déchiffré 2: 5.\u001f\u0018\n",
      "Message déchiffré 3: 5.\u001f\u0018\n",
      "Message déchiffré 4: 5.\u001f\u0018\n"
     ]
    }
   ],
   "source": [
    "# Test\n",
    "def message_to_numbers(message):\n",
    "    return [ord(char) for char in message]\n",
    "\n",
    "def numbers_to_message(numbers):\n",
    "    return ''.join(chr(num) for num in numbers)\n",
    "\n",
    "m = message_to_numbers(\"Hell\")\n",
    "print(f\"Message clair: {numbers_to_message(m)}\")\n",
    "\n",
    "c = [encode(x,N) for x in m]\n",
    "print(f\"Message chiffré: {c}\")\n",
    "\n",
    "# 4 racines possibles\n",
    "m = [decode(x,p,q) for x in c]\n",
    "\n",
    "for i in range(len(m)):\n",
    "    print(f\"Message déchiffré {i+1}: {numbers_to_message(m[i])}\")\n"
   ]
  }
 ],
 "metadata": {
  "kernelspec": {
   "display_name": ".venv",
   "language": "python",
   "name": "python3"
  },
  "language_info": {
   "codemirror_mode": {
    "name": "ipython",
    "version": 3
   },
   "file_extension": ".py",
   "mimetype": "text/x-python",
   "name": "python",
   "nbconvert_exporter": "python",
   "pygments_lexer": "ipython3",
   "version": "3.11.8"
  }
 },
 "nbformat": 4,
 "nbformat_minor": 2
}
